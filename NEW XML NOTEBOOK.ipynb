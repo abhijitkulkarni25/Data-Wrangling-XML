{
 "cells": [
  {
   "cell_type": "markdown",
   "metadata": {},
   "source": [
    "# XML example and exercise\n",
    "Study examples of accessing nodes in XML tree structure\n",
    "\n",
    "Work on exercise to be cleaned and analyzed\n",
    "\n",
    "Reference: https://docs.python.org/2.7/library/xml.etree.elementtree.html\n",
    "\n",
    "Data source: http://www.dbis.informatik.uni-goettingen.de/Mondial\n"
   ]
  },
  {
   "cell_type": "code",
   "execution_count": 84,
   "metadata": {
    "collapsed": true
   },
   "outputs": [],
   "source": [
    "import pandas as pd\n",
    "from pandas import DataFrame,Series\n",
    "from xml.etree import ElementTree as ET\n"
   ]
  },
  {
   "cell_type": "markdown",
   "metadata": {},
   "source": [
    "# XML example\n",
    "--For details about tree traversal and iterators\n",
    "\n",
    "--See https://docs.python.org/2.7/library/xml.etree.elementtree.html"
   ]
  },
  {
   "cell_type": "code",
   "execution_count": 85,
   "metadata": {
    "collapsed": true
   },
   "outputs": [],
   "source": [
    "document_tree=ET.parse(r'C:\\Users\\abhij\\Desktop\\data_wrangling_xml\\data\\mondial_database_less.xml')"
   ]
  },
  {
   "cell_type": "code",
   "execution_count": 86,
   "metadata": {},
   "outputs": [
    {
     "name": "stdout",
     "output_type": "stream",
     "text": [
      "Albania\n",
      "Greece\n",
      "Macedonia\n",
      "Serbia\n",
      "Montenegro\n",
      "Kosovo\n",
      "Andorra\n"
     ]
    }
   ],
   "source": [
    "# Print names of all countries\n",
    "for child in document_tree.getroot():\n",
    "    print child.find('name').text"
   ]
  },
  {
   "cell_type": "code",
   "execution_count": 87,
   "metadata": {},
   "outputs": [
    {
     "name": "stdout",
     "output_type": "stream",
     "text": [
      "*Albania: Tirana,Shkodër,Durrës,Vlorë,Elbasan,Korç\n",
      "*Greece: Komotini,Kavala,Athina,Peiraias,Peristeri,Acharnes,Patra,Kozani,Kerkyra,Ioannina,Thessaloniki,Iraklio,Chania,Ermoupoli,Rhodes,Tripoli,Lamia,Chalkida,Larissa,Volos,Mytilini,Karye\n",
      "*Macedonia: Skopje,Kumanov\n",
      "*Serbia: Beograd,Novi Sad,Ni\n",
      "*Montenegro: Podgoric\n",
      "*Kosovo: Prishtin\n",
      "*Andorra: Andorra la Vell\n"
     ]
    }
   ],
   "source": [
    "#Print names of all countries and their cities\n",
    "for element in document_tree.iterfind('country'):\n",
    "    print '*'+element.find('name').text+':',\n",
    "    capital_string=''\n",
    "    for subelement in element.getiterator('city'):\n",
    "        capital_string+=subelement.find('name').text+','\n",
    "    print capital_string[:-2]"
   ]
  },
  {
   "cell_type": "markdown",
   "metadata": {},
   "source": [
    "# XML exercise\n",
    "\n",
    "Using data in 'data/mondial_database.xml', the examples above, and refering to https://docs.python.org/2.7/library/xml.etree.elementtree.html\n",
    "\n",
    "Find:"
   ]
  },
  {
   "cell_type": "code",
   "execution_count": null,
   "metadata": {
    "collapsed": true
   },
   "outputs": [],
   "source": []
  },
  {
   "cell_type": "markdown",
   "metadata": {},
   "source": [
    "# Task 1:-10 countries with the lowest infant mortality rates\n"
   ]
  },
  {
   "cell_type": "code",
   "execution_count": 88,
   "metadata": {
    "collapsed": true
   },
   "outputs": [],
   "source": [
    "doc=ET.parse(r'C:\\Users\\abhij\\Desktop\\data_wrangling_xml\\data\\mondial_database.xml')"
   ]
  },
  {
   "cell_type": "code",
   "execution_count": 89,
   "metadata": {
    "collapsed": true
   },
   "outputs": [],
   "source": [
    "#initiate an empty dictionary to store Key:Country and Value:Infant Mortality\n",
    "infant_dict={}\n",
    "# for each element in doc for country\n",
    "for element in doc.iterfind('country'):\n",
    "    #for each x in element where we got country find its infant_mortality\n",
    "    for x in element.iterfind('infant_mortality'):\n",
    "        #now finally we have a empty_dictionary infant_dict waiting to be populated\n",
    "        #now for each key:country find its corresponding value:infant_mortality rate\n",
    "        infant_dict[element.find('name').text]=[float(element.find('infant_mortality').text)]"
   ]
  },
  {
   "cell_type": "code",
   "execution_count": 90,
   "metadata": {
    "collapsed": true
   },
   "outputs": [],
   "source": [
    "#Convert the infant_dict into a valid pandas dataframe\n",
    "infant_df=DataFrame.from_dict(infant_dict,orient='index')"
   ]
  },
  {
   "cell_type": "code",
   "execution_count": 91,
   "metadata": {
    "collapsed": true
   },
   "outputs": [],
   "source": [
    "#Naming the column 'Infant Mortality Rate'\n",
    "infant_df.columns=['Infant Mortality Rate']"
   ]
  },
  {
   "cell_type": "code",
   "execution_count": 92,
   "metadata": {},
   "outputs": [
    {
     "data": {
      "text/html": [
       "<div>\n",
       "<style>\n",
       "    .dataframe thead tr:only-child th {\n",
       "        text-align: right;\n",
       "    }\n",
       "\n",
       "    .dataframe thead th {\n",
       "        text-align: left;\n",
       "    }\n",
       "\n",
       "    .dataframe tbody tr th {\n",
       "        vertical-align: top;\n",
       "    }\n",
       "</style>\n",
       "<table border=\"1\" class=\"dataframe\">\n",
       "  <thead>\n",
       "    <tr style=\"text-align: right;\">\n",
       "      <th></th>\n",
       "      <th>Infant Mortality Rate</th>\n",
       "    </tr>\n",
       "  </thead>\n",
       "  <tbody>\n",
       "    <tr>\n",
       "      <th>Monaco</th>\n",
       "      <td>1.81</td>\n",
       "    </tr>\n",
       "    <tr>\n",
       "      <th>Japan</th>\n",
       "      <td>2.13</td>\n",
       "    </tr>\n",
       "    <tr>\n",
       "      <th>Norway</th>\n",
       "      <td>2.48</td>\n",
       "    </tr>\n",
       "    <tr>\n",
       "      <th>Bermuda</th>\n",
       "      <td>2.48</td>\n",
       "    </tr>\n",
       "    <tr>\n",
       "      <th>Singapore</th>\n",
       "      <td>2.53</td>\n",
       "    </tr>\n",
       "    <tr>\n",
       "      <th>Sweden</th>\n",
       "      <td>2.60</td>\n",
       "    </tr>\n",
       "    <tr>\n",
       "      <th>Czech Republic</th>\n",
       "      <td>2.63</td>\n",
       "    </tr>\n",
       "    <tr>\n",
       "      <th>Hong Kong</th>\n",
       "      <td>2.73</td>\n",
       "    </tr>\n",
       "    <tr>\n",
       "      <th>Macao</th>\n",
       "      <td>3.13</td>\n",
       "    </tr>\n",
       "    <tr>\n",
       "      <th>Iceland</th>\n",
       "      <td>3.15</td>\n",
       "    </tr>\n",
       "  </tbody>\n",
       "</table>\n",
       "</div>"
      ],
      "text/plain": [
       "                Infant Mortality Rate\n",
       "Monaco                           1.81\n",
       "Japan                            2.13\n",
       "Norway                           2.48\n",
       "Bermuda                          2.48\n",
       "Singapore                        2.53\n",
       "Sweden                           2.60\n",
       "Czech Republic                   2.63\n",
       "Hong Kong                        2.73\n",
       "Macao                            3.13\n",
       "Iceland                          3.15"
      ]
     },
     "execution_count": 92,
     "metadata": {},
     "output_type": "execute_result"
    }
   ],
   "source": [
    "#Sorting the DataFrame by lowest Infant Mortality Rate for top 10 countries\n",
    "infant_df.sort_values('Infant Mortality Rate',ascending=True).head(10)"
   ]
  },
  {
   "cell_type": "code",
   "execution_count": null,
   "metadata": {
    "collapsed": true
   },
   "outputs": [],
   "source": []
  },
  {
   "cell_type": "markdown",
   "metadata": {},
   "source": [
    "# Task 2:- 10 cities with the largest population"
   ]
  },
  {
   "cell_type": "code",
   "execution_count": 93,
   "metadata": {
    "collapsed": true
   },
   "outputs": [],
   "source": [
    "#initiate an empty dictionary for Key:City and Value:Population\n",
    "city_dict={}\n",
    "#for each element in doc find country:\n",
    "for element in doc.iterfind('country'):\n",
    "    #for each x in element find its city:\n",
    "    for x in element.iterfind('city'):\n",
    "        #for each i in x find its population:\n",
    "        for i in x.iterfind('population'):\n",
    "            #populate the empty dictionary with values\n",
    "            city_dict[x.find('name').text]=[int(x.find('population').text)]"
   ]
  },
  {
   "cell_type": "code",
   "execution_count": 94,
   "metadata": {},
   "outputs": [
    {
     "data": {
      "text/html": [
       "<div>\n",
       "<style>\n",
       "    .dataframe thead tr:only-child th {\n",
       "        text-align: right;\n",
       "    }\n",
       "\n",
       "    .dataframe thead th {\n",
       "        text-align: left;\n",
       "    }\n",
       "\n",
       "    .dataframe tbody tr th {\n",
       "        vertical-align: top;\n",
       "    }\n",
       "</style>\n",
       "<table border=\"1\" class=\"dataframe\">\n",
       "  <thead>\n",
       "    <tr style=\"text-align: right;\">\n",
       "      <th></th>\n",
       "      <th>Population</th>\n",
       "    </tr>\n",
       "  </thead>\n",
       "  <tbody>\n",
       "    <tr>\n",
       "      <th>Seoul</th>\n",
       "      <td>10229262</td>\n",
       "    </tr>\n",
       "    <tr>\n",
       "      <th>Hong Kong</th>\n",
       "      <td>7055071</td>\n",
       "    </tr>\n",
       "    <tr>\n",
       "      <th>Al Qahirah</th>\n",
       "      <td>6053000</td>\n",
       "    </tr>\n",
       "    <tr>\n",
       "      <th>Bangkok</th>\n",
       "      <td>5876000</td>\n",
       "    </tr>\n",
       "    <tr>\n",
       "      <th>Ho Chi Minh</th>\n",
       "      <td>3924435</td>\n",
       "    </tr>\n",
       "    <tr>\n",
       "      <th>Busan</th>\n",
       "      <td>3813814</td>\n",
       "    </tr>\n",
       "    <tr>\n",
       "      <th>New Taipei</th>\n",
       "      <td>3722082</td>\n",
       "    </tr>\n",
       "    <tr>\n",
       "      <th>Hanoi</th>\n",
       "      <td>3056146</td>\n",
       "    </tr>\n",
       "    <tr>\n",
       "      <th>Al Iskandariyah</th>\n",
       "      <td>2917000</td>\n",
       "    </tr>\n",
       "    <tr>\n",
       "      <th>Taipei</th>\n",
       "      <td>2626138</td>\n",
       "    </tr>\n",
       "  </tbody>\n",
       "</table>\n",
       "</div>"
      ],
      "text/plain": [
       "                 Population\n",
       "Seoul              10229262\n",
       "Hong Kong           7055071\n",
       "Al Qahirah          6053000\n",
       "Bangkok             5876000\n",
       "Ho Chi Minh         3924435\n",
       "Busan               3813814\n",
       "New Taipei          3722082\n",
       "Hanoi               3056146\n",
       "Al Iskandariyah     2917000\n",
       "Taipei              2626138"
      ]
     },
     "execution_count": 94,
     "metadata": {},
     "output_type": "execute_result"
    }
   ],
   "source": [
    "#convert to pandas dataframe\n",
    "city_df=DataFrame.from_dict(city_dict,orient='index')\n",
    "#name the column\n",
    "city_df.columns=['Population']\n",
    "#sort the dataframe\n",
    "city_df.sort_values('Population',ascending=False).head(10)"
   ]
  },
  {
   "cell_type": "markdown",
   "metadata": {},
   "source": [
    "# Task 3 :- 10 ethnic groups with the largest overall populations (sum of best/latest estimates over all countries)"
   ]
  },
  {
   "cell_type": "code",
   "execution_count": 95,
   "metadata": {
    "collapsed": true
   },
   "outputs": [],
   "source": [
    "#Overview of the approach used\n",
    "# Step 1 First extract a dictionary containing the Key:Country and Value:Population\n",
    "# Step 2 Second extract a list containing the followinf elements Country,Ethnic Group,Percentage\n",
    "# Step 3 Convert the above dicts and list into pandas dataframe\n",
    "# Step 4 Merge the two dataframes on Country"
   ]
  },
  {
   "cell_type": "code",
   "execution_count": 96,
   "metadata": {
    "collapsed": true
   },
   "outputs": [],
   "source": [
    "#Step 1\n",
    "country_dict={}\n",
    "for element in doc.iterfind('country'):\n",
    "    country_dict[element.find('name').text]=[int(element.find('population[last()]').text)]"
   ]
  },
  {
   "cell_type": "code",
   "execution_count": 97,
   "metadata": {
    "collapsed": true
   },
   "outputs": [],
   "source": [
    "#convert country_dict to a valid pandas dataframe\n",
    "country_df=DataFrame.from_dict(country_dict,orient='index')"
   ]
  },
  {
   "cell_type": "code",
   "execution_count": 98,
   "metadata": {
    "collapsed": true
   },
   "outputs": [],
   "source": [
    "# dropping the previous columns names so that we can rename it to Country and Population\n",
    "country_df.reset_index(drop=False,inplace=True)"
   ]
  },
  {
   "cell_type": "code",
   "execution_count": 99,
   "metadata": {
    "collapsed": true
   },
   "outputs": [],
   "source": [
    "#naming the columns\n",
    "country_df.columns=['Country','Population']"
   ]
  },
  {
   "cell_type": "code",
   "execution_count": 100,
   "metadata": {},
   "outputs": [
    {
     "data": {
      "text/html": [
       "<div>\n",
       "<style>\n",
       "    .dataframe thead tr:only-child th {\n",
       "        text-align: right;\n",
       "    }\n",
       "\n",
       "    .dataframe thead th {\n",
       "        text-align: left;\n",
       "    }\n",
       "\n",
       "    .dataframe tbody tr th {\n",
       "        vertical-align: top;\n",
       "    }\n",
       "</style>\n",
       "<table border=\"1\" class=\"dataframe\">\n",
       "  <thead>\n",
       "    <tr style=\"text-align: right;\">\n",
       "      <th></th>\n",
       "      <th>Country</th>\n",
       "      <th>Population</th>\n",
       "    </tr>\n",
       "  </thead>\n",
       "  <tbody>\n",
       "    <tr>\n",
       "      <th>0</th>\n",
       "      <td>Canada</td>\n",
       "      <td>35158304</td>\n",
       "    </tr>\n",
       "    <tr>\n",
       "      <th>1</th>\n",
       "      <td>Brazil</td>\n",
       "      <td>202768562</td>\n",
       "    </tr>\n",
       "    <tr>\n",
       "      <th>2</th>\n",
       "      <td>Sao Tome and Principe</td>\n",
       "      <td>187356</td>\n",
       "    </tr>\n",
       "    <tr>\n",
       "      <th>3</th>\n",
       "      <td>Turkmenistan</td>\n",
       "      <td>5041995</td>\n",
       "    </tr>\n",
       "  </tbody>\n",
       "</table>\n",
       "</div>"
      ],
      "text/plain": [
       "                 Country  Population\n",
       "0                 Canada    35158304\n",
       "1                 Brazil   202768562\n",
       "2  Sao Tome and Principe      187356\n",
       "3           Turkmenistan     5041995"
      ]
     },
     "execution_count": 100,
     "metadata": {},
     "output_type": "execute_result"
    }
   ],
   "source": [
    "country_df.head(4)"
   ]
  },
  {
   "cell_type": "code",
   "execution_count": 101,
   "metadata": {
    "collapsed": true
   },
   "outputs": [],
   "source": [
    "# Step 2 Second extract a list containing the followinf elements Country,Ethnic Group,Percentage\n",
    "\n",
    "country_list=[]\n",
    "for element in doc.iterfind('country'):\n",
    "    c_name=element.find('name').text\n",
    "    for x in element.iterfind('ethnicgroup'):\n",
    "        eth_per=x.attrib['percentage']\n",
    "        eth_name=x.text\n",
    "        country_list.append([c_name,eth_name,eth_per])"
   ]
  },
  {
   "cell_type": "code",
   "execution_count": 102,
   "metadata": {
    "collapsed": true
   },
   "outputs": [],
   "source": [
    "# convert the list into a pandas dataframe\n",
    "country_list_df=DataFrame(country_list,columns=['Country','Ethnic Group','Percentage'])"
   ]
  },
  {
   "cell_type": "code",
   "execution_count": 103,
   "metadata": {},
   "outputs": [
    {
     "data": {
      "text/html": [
       "<div>\n",
       "<style>\n",
       "    .dataframe thead tr:only-child th {\n",
       "        text-align: right;\n",
       "    }\n",
       "\n",
       "    .dataframe thead th {\n",
       "        text-align: left;\n",
       "    }\n",
       "\n",
       "    .dataframe tbody tr th {\n",
       "        vertical-align: top;\n",
       "    }\n",
       "</style>\n",
       "<table border=\"1\" class=\"dataframe\">\n",
       "  <thead>\n",
       "    <tr style=\"text-align: right;\">\n",
       "      <th></th>\n",
       "      <th>Country</th>\n",
       "      <th>Ethnic Group</th>\n",
       "      <th>Percentage</th>\n",
       "    </tr>\n",
       "  </thead>\n",
       "  <tbody>\n",
       "    <tr>\n",
       "      <th>0</th>\n",
       "      <td>Albania</td>\n",
       "      <td>Albanian</td>\n",
       "      <td>95</td>\n",
       "    </tr>\n",
       "    <tr>\n",
       "      <th>1</th>\n",
       "      <td>Albania</td>\n",
       "      <td>Greek</td>\n",
       "      <td>3</td>\n",
       "    </tr>\n",
       "    <tr>\n",
       "      <th>2</th>\n",
       "      <td>Greece</td>\n",
       "      <td>Greek</td>\n",
       "      <td>93</td>\n",
       "    </tr>\n",
       "    <tr>\n",
       "      <th>3</th>\n",
       "      <td>Macedonia</td>\n",
       "      <td>Macedonian</td>\n",
       "      <td>64.2</td>\n",
       "    </tr>\n",
       "  </tbody>\n",
       "</table>\n",
       "</div>"
      ],
      "text/plain": [
       "     Country Ethnic Group Percentage\n",
       "0    Albania     Albanian         95\n",
       "1    Albania        Greek          3\n",
       "2     Greece        Greek         93\n",
       "3  Macedonia   Macedonian       64.2"
      ]
     },
     "execution_count": 103,
     "metadata": {},
     "output_type": "execute_result"
    }
   ],
   "source": [
    "country_list_df.head(4)"
   ]
  },
  {
   "cell_type": "code",
   "execution_count": 104,
   "metadata": {
    "collapsed": true
   },
   "outputs": [],
   "source": [
    "# Step 4 Merge the two dataframes on Country\n",
    "\n",
    "country_list_df=country_list_df.merge(country_df[['Country','Population']],on='Country')"
   ]
  },
  {
   "cell_type": "code",
   "execution_count": 105,
   "metadata": {},
   "outputs": [
    {
     "data": {
      "text/html": [
       "<div>\n",
       "<style>\n",
       "    .dataframe thead tr:only-child th {\n",
       "        text-align: right;\n",
       "    }\n",
       "\n",
       "    .dataframe thead th {\n",
       "        text-align: left;\n",
       "    }\n",
       "\n",
       "    .dataframe tbody tr th {\n",
       "        vertical-align: top;\n",
       "    }\n",
       "</style>\n",
       "<table border=\"1\" class=\"dataframe\">\n",
       "  <thead>\n",
       "    <tr style=\"text-align: right;\">\n",
       "      <th></th>\n",
       "      <th>Country</th>\n",
       "      <th>Ethnic Group</th>\n",
       "      <th>Percentage</th>\n",
       "      <th>Population</th>\n",
       "    </tr>\n",
       "  </thead>\n",
       "  <tbody>\n",
       "    <tr>\n",
       "      <th>0</th>\n",
       "      <td>Albania</td>\n",
       "      <td>Albanian</td>\n",
       "      <td>95</td>\n",
       "      <td>2800138</td>\n",
       "    </tr>\n",
       "    <tr>\n",
       "      <th>1</th>\n",
       "      <td>Albania</td>\n",
       "      <td>Greek</td>\n",
       "      <td>3</td>\n",
       "      <td>2800138</td>\n",
       "    </tr>\n",
       "    <tr>\n",
       "      <th>2</th>\n",
       "      <td>Greece</td>\n",
       "      <td>Greek</td>\n",
       "      <td>93</td>\n",
       "      <td>10816286</td>\n",
       "    </tr>\n",
       "    <tr>\n",
       "      <th>3</th>\n",
       "      <td>Macedonia</td>\n",
       "      <td>Macedonian</td>\n",
       "      <td>64.2</td>\n",
       "      <td>2059794</td>\n",
       "    </tr>\n",
       "  </tbody>\n",
       "</table>\n",
       "</div>"
      ],
      "text/plain": [
       "     Country Ethnic Group Percentage  Population\n",
       "0    Albania     Albanian         95     2800138\n",
       "1    Albania        Greek          3     2800138\n",
       "2     Greece        Greek         93    10816286\n",
       "3  Macedonia   Macedonian       64.2     2059794"
      ]
     },
     "execution_count": 105,
     "metadata": {},
     "output_type": "execute_result"
    }
   ],
   "source": [
    "country_list_df.head(4)"
   ]
  },
  {
   "cell_type": "code",
   "execution_count": 106,
   "metadata": {
    "collapsed": true
   },
   "outputs": [],
   "source": [
    "# Adding a new column 'Population final '\n",
    "\n",
    "country_list_df['Population Final']=(country_list_df['Percentage'].astype(float))*country_list_df['Population']"
   ]
  },
  {
   "cell_type": "code",
   "execution_count": 107,
   "metadata": {
    "collapsed": true
   },
   "outputs": [],
   "source": [
    "#use groupby function on Ethnic Group and sum it up\n",
    "c1=country_list_df.groupby('Ethnic Group').sum()"
   ]
  },
  {
   "cell_type": "code",
   "execution_count": 108,
   "metadata": {},
   "outputs": [
    {
     "data": {
      "text/html": [
       "<div>\n",
       "<style>\n",
       "    .dataframe thead tr:only-child th {\n",
       "        text-align: right;\n",
       "    }\n",
       "\n",
       "    .dataframe thead th {\n",
       "        text-align: left;\n",
       "    }\n",
       "\n",
       "    .dataframe tbody tr th {\n",
       "        vertical-align: top;\n",
       "    }\n",
       "</style>\n",
       "<table border=\"1\" class=\"dataframe\">\n",
       "  <thead>\n",
       "    <tr style=\"text-align: right;\">\n",
       "      <th></th>\n",
       "      <th>Population</th>\n",
       "      <th>Population Final</th>\n",
       "    </tr>\n",
       "    <tr>\n",
       "      <th>Ethnic Group</th>\n",
       "      <th></th>\n",
       "      <th></th>\n",
       "    </tr>\n",
       "  </thead>\n",
       "  <tbody>\n",
       "    <tr>\n",
       "      <th>Han Chinese</th>\n",
       "      <td>1360720000</td>\n",
       "      <td>1.245059e+11</td>\n",
       "    </tr>\n",
       "    <tr>\n",
       "      <th>Indo-Aryan</th>\n",
       "      <td>1210854977</td>\n",
       "      <td>8.718156e+10</td>\n",
       "    </tr>\n",
       "    <tr>\n",
       "      <th>European</th>\n",
       "      <td>1157295639</td>\n",
       "      <td>4.948722e+10</td>\n",
       "    </tr>\n",
       "    <tr>\n",
       "      <th>African</th>\n",
       "      <td>975352746</td>\n",
       "      <td>3.183251e+10</td>\n",
       "    </tr>\n",
       "    <tr>\n",
       "      <th>Dravidian</th>\n",
       "      <td>1210854977</td>\n",
       "      <td>3.027137e+10</td>\n",
       "    </tr>\n",
       "    <tr>\n",
       "      <th>Mestizo</th>\n",
       "      <td>279743964</td>\n",
       "      <td>1.577344e+10</td>\n",
       "    </tr>\n",
       "    <tr>\n",
       "      <th>Bengali</th>\n",
       "      <td>149772364</td>\n",
       "      <td>1.467769e+10</td>\n",
       "    </tr>\n",
       "    <tr>\n",
       "      <th>Russian</th>\n",
       "      <td>322438406</td>\n",
       "      <td>1.318570e+10</td>\n",
       "    </tr>\n",
       "    <tr>\n",
       "      <th>Japanese</th>\n",
       "      <td>127298000</td>\n",
       "      <td>1.265342e+10</td>\n",
       "    </tr>\n",
       "    <tr>\n",
       "      <th>Malay</th>\n",
       "      <td>377500275</td>\n",
       "      <td>1.219936e+10</td>\n",
       "    </tr>\n",
       "  </tbody>\n",
       "</table>\n",
       "</div>"
      ],
      "text/plain": [
       "              Population  Population Final\n",
       "Ethnic Group                              \n",
       "Han Chinese   1360720000      1.245059e+11\n",
       "Indo-Aryan    1210854977      8.718156e+10\n",
       "European      1157295639      4.948722e+10\n",
       "African        975352746      3.183251e+10\n",
       "Dravidian     1210854977      3.027137e+10\n",
       "Mestizo        279743964      1.577344e+10\n",
       "Bengali        149772364      1.467769e+10\n",
       "Russian        322438406      1.318570e+10\n",
       "Japanese       127298000      1.265342e+10\n",
       "Malay          377500275      1.219936e+10"
      ]
     },
     "execution_count": 108,
     "metadata": {},
     "output_type": "execute_result"
    }
   ],
   "source": [
    "# Final sort\n",
    "c1.sort_values('Population Final',ascending=False).head(10)"
   ]
  },
  {
   "cell_type": "markdown",
   "metadata": {},
   "source": [
    "# Task 4:name and country of a) longest river, b) largest lake and c) airport at highest elevation"
   ]
  },
  {
   "cell_type": "markdown",
   "metadata": {},
   "source": [
    "# a]Longest River"
   ]
  },
  {
   "cell_type": "code",
   "execution_count": 109,
   "metadata": {
    "collapsed": true
   },
   "outputs": [],
   "source": [
    "# initiate an empty dict:country_dict to store Key:country and its value:car_code"
   ]
  },
  {
   "cell_type": "code",
   "execution_count": 110,
   "metadata": {},
   "outputs": [],
   "source": [
    "country_dict={}\n",
    "\n",
    "for element in doc.iterfind('country'):\n",
    "    country_dict[element.attrib['car_code']]=element.find('name').text"
   ]
  },
  {
   "cell_type": "code",
   "execution_count": 111,
   "metadata": {},
   "outputs": [
    {
     "data": {
      "text/plain": [
       "{'A': 'Austria',\n",
       " 'AFG': 'Afghanistan',\n",
       " 'AG': 'Antigua and Barbuda',\n",
       " 'AL': 'Albania',\n",
       " 'AMSA': 'American Samoa',\n",
       " 'AND': 'Andorra',\n",
       " 'ANG': 'Angola',\n",
       " 'ARM': 'Armenia',\n",
       " 'ARU': 'Aruba',\n",
       " 'AUS': 'Australia',\n",
       " 'AXA': 'Anguilla',\n",
       " 'AZ': 'Azerbaijan',\n",
       " 'B': 'Belgium',\n",
       " 'BD': 'Bangladesh',\n",
       " 'BDS': 'Barbados',\n",
       " 'BEN': 'Benin',\n",
       " 'BERM': 'Bermuda',\n",
       " 'BF': 'Burkina Faso',\n",
       " 'BG': 'Bulgaria',\n",
       " 'BHT': 'Bhutan',\n",
       " 'BI': 'Burundi',\n",
       " 'BIH': 'Bosnia and Herzegovina',\n",
       " 'BOL': 'Bolivia',\n",
       " 'BR': 'Brazil',\n",
       " 'BRN': 'Bahrain',\n",
       " 'BRU': 'Brunei',\n",
       " 'BS': 'Bahamas',\n",
       " 'BVIR': 'British Virgin Islands',\n",
       " 'BY': 'Belarus',\n",
       " 'BZ': 'Belize',\n",
       " 'C': 'Cuba',\n",
       " 'CAM': 'Cameroon',\n",
       " 'CAYM': 'Cayman Islands',\n",
       " 'CDN': 'Canada',\n",
       " 'CEU': 'Ceuta',\n",
       " 'CH': 'Switzerland',\n",
       " 'CI': 'Cote dIvoire',\n",
       " 'CL': 'Sri Lanka',\n",
       " 'CN': 'China',\n",
       " 'CO': 'Colombia',\n",
       " 'COCO': 'Cocos Islands',\n",
       " 'COM': 'Comoros',\n",
       " 'COOK': 'Cook Islands',\n",
       " 'CR': 'Costa Rica',\n",
       " 'CUR': 'Curacao',\n",
       " 'CV': 'Cape Verde',\n",
       " 'CY': 'Cyprus',\n",
       " 'CZ': 'Czech Republic',\n",
       " 'D': 'Germany',\n",
       " 'DJI': 'Djibouti',\n",
       " 'DK': 'Denmark',\n",
       " 'DOM': 'Dominican Republic',\n",
       " 'DZ': 'Algeria',\n",
       " 'E': 'Spain',\n",
       " 'EAK': 'Kenya',\n",
       " 'EAT': 'Tanzania',\n",
       " 'EAU': 'Uganda',\n",
       " 'EC': 'Ecuador',\n",
       " 'ER': 'Eritrea',\n",
       " 'ES': 'El Salvador',\n",
       " 'ET': 'Egypt',\n",
       " 'ETH': 'Ethiopia',\n",
       " 'EW': 'Estonia',\n",
       " 'F': 'France',\n",
       " 'FALK': 'Falkland Islands',\n",
       " 'FARX': 'Faroe Islands',\n",
       " 'FGU': 'French Guiana',\n",
       " 'FJI': 'Fiji',\n",
       " 'FL': 'Liechtenstein',\n",
       " 'FPOL': 'French Polynesia',\n",
       " 'FSM': 'Micronesia',\n",
       " 'G': 'Gabon',\n",
       " 'GAZA': 'Gaza Strip',\n",
       " 'GB': 'United Kingdom',\n",
       " 'GBG': 'Guernsey',\n",
       " 'GBJ': 'Jersey',\n",
       " 'GBM': 'Isle of Man',\n",
       " 'GBZ': 'Gibraltar',\n",
       " 'GCA': 'Guatemala',\n",
       " 'GE': 'Georgia',\n",
       " 'GH': 'Ghana',\n",
       " 'GNB': 'Guinea-Bissau',\n",
       " 'GQ': 'Equatorial Guinea',\n",
       " 'GR': 'Greece',\n",
       " 'GROX': 'Greenland',\n",
       " 'GUAD': 'Guadeloupe',\n",
       " 'GUAM': 'Guam',\n",
       " 'GUY': 'Guyana',\n",
       " 'H': 'Hungary',\n",
       " 'HCA': 'Honduras',\n",
       " 'HELX': 'Saint Helena',\n",
       " 'HONX': 'Hong Kong',\n",
       " 'HR': 'Croatia',\n",
       " 'I': 'Italy',\n",
       " 'IL': 'Israel',\n",
       " 'IND': 'India',\n",
       " 'IR': 'Iran',\n",
       " 'IRL': 'Ireland',\n",
       " 'IRQ': 'Iraq',\n",
       " 'IS': 'Iceland',\n",
       " 'J': 'Japan',\n",
       " 'JA': 'Jamaica',\n",
       " 'JOR': 'Jordan',\n",
       " 'K': 'Cambodia',\n",
       " 'KAZ': 'Kazakhstan',\n",
       " 'KGZ': 'Kyrgyzstan',\n",
       " 'KIR': 'Kiribati',\n",
       " 'KN': 'Saint Kitts and Nevis',\n",
       " 'KOS': 'Kosovo',\n",
       " 'KWT': 'Kuwait',\n",
       " 'L': 'Luxembourg',\n",
       " 'LAO': 'Laos',\n",
       " 'LAR': 'Libya',\n",
       " 'LB': 'Liberia',\n",
       " 'LS': 'Lesotho',\n",
       " 'LT': 'Lithuania',\n",
       " 'LV': 'Latvia',\n",
       " 'M': 'Malta',\n",
       " 'MA': 'Morocco',\n",
       " 'MACX': 'Macao',\n",
       " 'MAL': 'Malaysia',\n",
       " 'MART': 'Martinique',\n",
       " 'MAYO': 'Mayotte',\n",
       " 'MC': 'Monaco',\n",
       " 'MD': 'Moldova',\n",
       " 'MEL': 'Melilla',\n",
       " 'MEX': 'Mexico',\n",
       " 'MH': 'Marshall Islands',\n",
       " 'MK': 'Macedonia',\n",
       " 'MNE': 'Montenegro',\n",
       " 'MNG': 'Mongolia',\n",
       " 'MNTS': 'Montserrat',\n",
       " 'MOC': 'Mozambique',\n",
       " 'MS': 'Mauritius',\n",
       " 'MV': 'Maldives',\n",
       " 'MW': 'Malawi',\n",
       " 'MYA': 'Myanmar',\n",
       " 'N': 'Norway',\n",
       " 'NAM': 'Namibia',\n",
       " 'NAU': 'Nauru',\n",
       " 'NCA': 'New Caledonia',\n",
       " 'NEP': 'Nepal',\n",
       " 'NIC': 'Nicaragua',\n",
       " 'NIUE': 'Niue',\n",
       " 'NL': 'Netherlands',\n",
       " 'NLSM': 'Sint Maarten',\n",
       " 'NMIS': 'Northern Mariana Islands',\n",
       " 'NOK': 'North Korea',\n",
       " 'NORF': 'Norfolk Island',\n",
       " 'NZ': 'New Zealand',\n",
       " 'OM': 'Oman',\n",
       " 'P': 'Portugal',\n",
       " 'PA': 'Panama',\n",
       " 'PAL': 'Palau',\n",
       " 'PE': 'Peru',\n",
       " 'PITC': 'Pitcairn',\n",
       " 'PK': 'Pakistan',\n",
       " 'PL': 'Poland',\n",
       " 'PNG': 'Papua New Guinea',\n",
       " 'PR': 'Puerto Rico',\n",
       " 'PY': 'Paraguay',\n",
       " 'Q': 'Qatar',\n",
       " 'R': 'Russia',\n",
       " 'RA': 'Argentina',\n",
       " 'RB': 'Botswana',\n",
       " 'RC': 'Taiwan',\n",
       " 'RCA': 'Central African Republic',\n",
       " 'RCB': 'Congo',\n",
       " 'RCH': 'Chile',\n",
       " 'REUN': 'Reunion',\n",
       " 'RG': 'Guinea',\n",
       " 'RH': 'Haiti',\n",
       " 'RI': 'Indonesia',\n",
       " 'RIM': 'Mauritania',\n",
       " 'RL': 'Lebanon',\n",
       " 'RM': 'Madagascar',\n",
       " 'RMM': 'Mali',\n",
       " 'RN': 'Niger',\n",
       " 'RO': 'Romania',\n",
       " 'ROK': 'South Korea',\n",
       " 'ROU': 'Uruguay',\n",
       " 'RP': 'Philippines',\n",
       " 'RSA': 'South Africa',\n",
       " 'RSM': 'San Marino',\n",
       " 'RT': 'Togo',\n",
       " 'RWA': 'Rwanda',\n",
       " 'S': 'Sweden',\n",
       " 'SA': 'Saudi Arabia',\n",
       " 'SBAR': 'Saint Barthelemy',\n",
       " 'SD': 'Swaziland',\n",
       " 'SF': 'Finland',\n",
       " 'SGP': 'Singapore',\n",
       " 'SK': 'Slovakia',\n",
       " 'SLB': 'Solomon Islands',\n",
       " 'SLO': 'Slovenia',\n",
       " 'SMAR': 'Saint Martin',\n",
       " 'SME': 'Suriname',\n",
       " 'SN': 'Senegal',\n",
       " 'SP': 'Somalia',\n",
       " 'SPMI': 'Saint Pierre and Miquelon',\n",
       " 'SRB': 'Serbia',\n",
       " 'SSD': 'South Sudan',\n",
       " 'STP': 'Sao Tome and Principe',\n",
       " 'SUD': 'Sudan',\n",
       " 'SVAX': 'Svalbard',\n",
       " 'SY': 'Seychelles',\n",
       " 'SYR': 'Syria',\n",
       " 'TAD': 'Tajikistan',\n",
       " 'TCH': 'Chad',\n",
       " 'THA': 'Thailand',\n",
       " 'TL': 'Timor-Leste',\n",
       " 'TM': 'Turkmenistan',\n",
       " 'TN': 'Tunisia',\n",
       " 'TO': 'Tonga',\n",
       " 'TOK': 'Tokelau',\n",
       " 'TR': 'Turkey',\n",
       " 'TT': 'Trinidad and Tobago',\n",
       " 'TUCA': 'Turks and Caicos Islands',\n",
       " 'TUV': 'Tuvalu',\n",
       " 'UA': 'Ukraine',\n",
       " 'UAE': 'United Arab Emirates',\n",
       " 'USA': 'United States',\n",
       " 'UZB': 'Uzbekistan',\n",
       " 'V': 'Holy See',\n",
       " 'VIRG': 'Virgin Islands',\n",
       " 'VN': 'Vietnam',\n",
       " 'VU': 'Vanuatu',\n",
       " 'WAFU': 'Wallis and Futuna',\n",
       " 'WAG': 'Gambia',\n",
       " 'WAL': 'Sierra Leone',\n",
       " 'WAN': 'Nigeria',\n",
       " 'WD': 'Dominica',\n",
       " 'WEST': 'West Bank',\n",
       " 'WG': 'Grenada',\n",
       " 'WL': 'Saint Lucia',\n",
       " 'WS': 'Samoa',\n",
       " 'WSA': 'Western Sahara',\n",
       " 'WV': 'Saint Vincent and the Grenadines',\n",
       " 'XMAS': 'Christmas Island',\n",
       " 'YE': 'Yemen',\n",
       " 'YV': 'Venezuela',\n",
       " 'Z': 'Zambia',\n",
       " 'ZRE': 'Zaire',\n",
       " 'ZW': 'Zimbabwe'}"
      ]
     },
     "execution_count": 111,
     "metadata": {},
     "output_type": "execute_result"
    }
   ],
   "source": [
    "country_dict"
   ]
  },
  {
   "cell_type": "code",
   "execution_count": 121,
   "metadata": {
    "collapsed": true
   },
   "outputs": [],
   "source": [
    "r_list=[]\n",
    "for element in doc.iterfind('river'):\n",
    "    r_name=element.find('name').text\n",
    "    r_length=element.find('length')\n",
    "    if r_length!=None:\n",
    "        r_len=r_length.text\n",
    "        for x in element.attrib['country'].split():\n",
    "            new_code=country_dict[x]\n",
    "    r_list.append([new_code,x,r_name,float(r_len)])"
   ]
  },
  {
   "cell_type": "code",
   "execution_count": 122,
   "metadata": {},
   "outputs": [],
   "source": [
    "river_label=['Country','Country Code','River','Length']"
   ]
  },
  {
   "cell_type": "code",
   "execution_count": 123,
   "metadata": {
    "collapsed": true
   },
   "outputs": [],
   "source": [
    "river_df=DataFrame(r_list,columns=river_label)"
   ]
  },
  {
   "cell_type": "code",
   "execution_count": 124,
   "metadata": {},
   "outputs": [
    {
     "data": {
      "text/html": [
       "<div>\n",
       "<style>\n",
       "    .dataframe thead tr:only-child th {\n",
       "        text-align: right;\n",
       "    }\n",
       "\n",
       "    .dataframe thead th {\n",
       "        text-align: left;\n",
       "    }\n",
       "\n",
       "    .dataframe tbody tr th {\n",
       "        vertical-align: top;\n",
       "    }\n",
       "</style>\n",
       "<table border=\"1\" class=\"dataframe\">\n",
       "  <thead>\n",
       "    <tr style=\"text-align: right;\">\n",
       "      <th></th>\n",
       "      <th>Country</th>\n",
       "      <th>Country Code</th>\n",
       "      <th>River</th>\n",
       "      <th>Length</th>\n",
       "    </tr>\n",
       "  </thead>\n",
       "  <tbody>\n",
       "    <tr>\n",
       "      <th>0</th>\n",
       "      <td>Iceland</td>\n",
       "      <td>IS</td>\n",
       "      <td>Thjorsa</td>\n",
       "      <td>230.0</td>\n",
       "    </tr>\n",
       "    <tr>\n",
       "      <th>1</th>\n",
       "      <td>Iceland</td>\n",
       "      <td>IS</td>\n",
       "      <td>Joekulsa a Fjoellum</td>\n",
       "      <td>206.0</td>\n",
       "    </tr>\n",
       "  </tbody>\n",
       "</table>\n",
       "</div>"
      ],
      "text/plain": [
       "   Country Country Code                River  Length\n",
       "0  Iceland           IS              Thjorsa   230.0\n",
       "1  Iceland           IS  Joekulsa a Fjoellum   206.0"
      ]
     },
     "execution_count": 124,
     "metadata": {},
     "output_type": "execute_result"
    }
   ],
   "source": [
    "river_df.head(2)"
   ]
  },
  {
   "cell_type": "code",
   "execution_count": 126,
   "metadata": {},
   "outputs": [
    {
     "data": {
      "text/html": [
       "<div>\n",
       "<style>\n",
       "    .dataframe thead tr:only-child th {\n",
       "        text-align: right;\n",
       "    }\n",
       "\n",
       "    .dataframe thead th {\n",
       "        text-align: left;\n",
       "    }\n",
       "\n",
       "    .dataframe tbody tr th {\n",
       "        vertical-align: top;\n",
       "    }\n",
       "</style>\n",
       "<table border=\"1\" class=\"dataframe\">\n",
       "  <thead>\n",
       "    <tr style=\"text-align: right;\">\n",
       "      <th></th>\n",
       "      <th>Country</th>\n",
       "      <th>Country Code</th>\n",
       "      <th>River</th>\n",
       "      <th>Length</th>\n",
       "    </tr>\n",
       "  </thead>\n",
       "  <tbody>\n",
       "    <tr>\n",
       "      <th>174</th>\n",
       "      <td>Peru</td>\n",
       "      <td>PE</td>\n",
       "      <td>Amazonas</td>\n",
       "      <td>6448.0</td>\n",
       "    </tr>\n",
       "  </tbody>\n",
       "</table>\n",
       "</div>"
      ],
      "text/plain": [
       "    Country Country Code     River  Length\n",
       "174    Peru           PE  Amazonas  6448.0"
      ]
     },
     "execution_count": 126,
     "metadata": {},
     "output_type": "execute_result"
    }
   ],
   "source": [
    "river_df.sort_values('Length',ascending=False).head(1)"
   ]
  },
  {
   "cell_type": "markdown",
   "metadata": {},
   "source": [
    "# b] Largest Lake"
   ]
  },
  {
   "cell_type": "code",
   "execution_count": 145,
   "metadata": {},
   "outputs": [],
   "source": [
    "lake_list=[]\n",
    "for element in doc.iterfind('lake'):\n",
    "    lake_name=element.find('name').text\n",
    "    lake_area=element.find('area')\n",
    "    if lake_area!=None:\n",
    "        lake_new_area=lake_area.text\n",
    "        for x in element.attrib['country'].split():\n",
    "            new_code=country_dict[x]\n",
    "    lake_list.append([new_code,x,lake_name,lake_new_area])"
   ]
  },
  {
   "cell_type": "code",
   "execution_count": 146,
   "metadata": {},
   "outputs": [],
   "source": [
    "lake_df=DataFrame(lake_list,columns=['Country','Country Code','Lake Name','Lake Area'])"
   ]
  },
  {
   "cell_type": "code",
   "execution_count": 154,
   "metadata": {},
   "outputs": [
    {
     "data": {
      "text/html": [
       "<div>\n",
       "<style>\n",
       "    .dataframe thead tr:only-child th {\n",
       "        text-align: right;\n",
       "    }\n",
       "\n",
       "    .dataframe thead th {\n",
       "        text-align: left;\n",
       "    }\n",
       "\n",
       "    .dataframe tbody tr th {\n",
       "        vertical-align: top;\n",
       "    }\n",
       "</style>\n",
       "<table border=\"1\" class=\"dataframe\">\n",
       "  <thead>\n",
       "    <tr style=\"text-align: right;\">\n",
       "      <th></th>\n",
       "      <th>Country</th>\n",
       "      <th>Country Code</th>\n",
       "      <th>Lake Name</th>\n",
       "      <th>Lake Area</th>\n",
       "    </tr>\n",
       "  </thead>\n",
       "  <tbody>\n",
       "    <tr>\n",
       "      <th>0</th>\n",
       "      <td>Finland</td>\n",
       "      <td>SF</td>\n",
       "      <td>Inari</td>\n",
       "      <td>1040.0</td>\n",
       "    </tr>\n",
       "    <tr>\n",
       "      <th>1</th>\n",
       "      <td>Finland</td>\n",
       "      <td>SF</td>\n",
       "      <td>Oulujaervi</td>\n",
       "      <td>928.0</td>\n",
       "    </tr>\n",
       "    <tr>\n",
       "      <th>2</th>\n",
       "      <td>Finland</td>\n",
       "      <td>SF</td>\n",
       "      <td>Kallavesi</td>\n",
       "      <td>472.0</td>\n",
       "    </tr>\n",
       "  </tbody>\n",
       "</table>\n",
       "</div>"
      ],
      "text/plain": [
       "   Country Country Code   Lake Name  Lake Area\n",
       "0  Finland           SF       Inari     1040.0\n",
       "1  Finland           SF  Oulujaervi      928.0\n",
       "2  Finland           SF   Kallavesi      472.0"
      ]
     },
     "execution_count": 154,
     "metadata": {},
     "output_type": "execute_result"
    }
   ],
   "source": [
    "lake_df1=lake_df.apply(pd.to_numeric,errors='ignore')\n",
    "\n",
    "lake_df1.head(3)"
   ]
  },
  {
   "cell_type": "code",
   "execution_count": 156,
   "metadata": {},
   "outputs": [
    {
     "data": {
      "text/html": [
       "<div>\n",
       "<style>\n",
       "    .dataframe thead tr:only-child th {\n",
       "        text-align: right;\n",
       "    }\n",
       "\n",
       "    .dataframe thead th {\n",
       "        text-align: left;\n",
       "    }\n",
       "\n",
       "    .dataframe tbody tr th {\n",
       "        vertical-align: top;\n",
       "    }\n",
       "</style>\n",
       "<table border=\"1\" class=\"dataframe\">\n",
       "  <thead>\n",
       "    <tr style=\"text-align: right;\">\n",
       "      <th></th>\n",
       "      <th>Country</th>\n",
       "      <th>Country Code</th>\n",
       "      <th>Lake Name</th>\n",
       "      <th>Lake Area</th>\n",
       "    </tr>\n",
       "  </thead>\n",
       "  <tbody>\n",
       "    <tr>\n",
       "      <th>54</th>\n",
       "      <td>Turkmenistan</td>\n",
       "      <td>TM</td>\n",
       "      <td>Caspian Sea</td>\n",
       "      <td>386400.0</td>\n",
       "    </tr>\n",
       "  </tbody>\n",
       "</table>\n",
       "</div>"
      ],
      "text/plain": [
       "         Country Country Code    Lake Name  Lake Area\n",
       "54  Turkmenistan           TM  Caspian Sea   386400.0"
      ]
     },
     "execution_count": 156,
     "metadata": {},
     "output_type": "execute_result"
    }
   ],
   "source": [
    "lake_df1.sort_values('Lake Area',ascending=False).head(1)"
   ]
  },
  {
   "cell_type": "markdown",
   "metadata": {},
   "source": [
    "# c] Airport at Highest Elevation"
   ]
  },
  {
   "cell_type": "code",
   "execution_count": 171,
   "metadata": {},
   "outputs": [],
   "source": [
    "airport_empty_list=[]\n",
    "\n",
    "for element in doc.iterfind('airport'):\n",
    "    a_name=element.find('name').text\n",
    "    a_elevation=element.find('elevation')\n",
    "    if a_elevation!=None:\n",
    "        a_elev=a_elevation.text\n",
    "        for x in element.attrib['country'].split():\n",
    "            new_code=country_dict[x]\n",
    "    airport_empty_list.append([new_code,x,a_name,a_elev])"
   ]
  },
  {
   "cell_type": "code",
   "execution_count": 172,
   "metadata": {},
   "outputs": [],
   "source": [
    "air_df=DataFrame(airport_empty_list,columns=['Country','Country Code','Airport','Elevation'])"
   ]
  },
  {
   "cell_type": "code",
   "execution_count": 174,
   "metadata": {},
   "outputs": [
    {
     "data": {
      "text/html": [
       "<div>\n",
       "<style>\n",
       "    .dataframe thead tr:only-child th {\n",
       "        text-align: right;\n",
       "    }\n",
       "\n",
       "    .dataframe thead th {\n",
       "        text-align: left;\n",
       "    }\n",
       "\n",
       "    .dataframe tbody tr th {\n",
       "        vertical-align: top;\n",
       "    }\n",
       "</style>\n",
       "<table border=\"1\" class=\"dataframe\">\n",
       "  <thead>\n",
       "    <tr style=\"text-align: right;\">\n",
       "      <th></th>\n",
       "      <th>Country</th>\n",
       "      <th>Country Code</th>\n",
       "      <th>Airport</th>\n",
       "      <th>Elevation</th>\n",
       "    </tr>\n",
       "  </thead>\n",
       "  <tbody>\n",
       "    <tr>\n",
       "      <th>80</th>\n",
       "      <td>Bolivia</td>\n",
       "      <td>BOL</td>\n",
       "      <td>El Alto Intl</td>\n",
       "      <td>4063.0</td>\n",
       "    </tr>\n",
       "  </tbody>\n",
       "</table>\n",
       "</div>"
      ],
      "text/plain": [
       "    Country Country Code       Airport  Elevation\n",
       "80  Bolivia          BOL  El Alto Intl     4063.0"
      ]
     },
     "execution_count": 174,
     "metadata": {},
     "output_type": "execute_result"
    }
   ],
   "source": [
    "air_df1=air_df.apply(pd.to_numeric,errors='ignore')\n",
    "air_df1.sort_values('Elevation',ascending=False).head(1)"
   ]
  },
  {
   "cell_type": "code",
   "execution_count": null,
   "metadata": {
    "collapsed": true
   },
   "outputs": [],
   "source": []
  }
 ],
 "metadata": {
  "kernelspec": {
   "display_name": "Python 2",
   "language": "python",
   "name": "python2"
  },
  "language_info": {
   "codemirror_mode": {
    "name": "ipython",
    "version": 2
   },
   "file_extension": ".py",
   "mimetype": "text/x-python",
   "name": "python",
   "nbconvert_exporter": "python",
   "pygments_lexer": "ipython2",
   "version": "2.7.13"
  }
 },
 "nbformat": 4,
 "nbformat_minor": 2
}
